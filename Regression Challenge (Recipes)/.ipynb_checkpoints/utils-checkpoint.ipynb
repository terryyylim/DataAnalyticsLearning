{
 "cells": [
  {
   "cell_type": "code",
   "execution_count": null,
   "metadata": {
    "collapsed": true
   },
   "outputs": [],
   "source": [
    "#coding: utf8\n",
    "import pandas as pd\n",
    "import numpy as np\n",
    "\n",
    "def sublist_uniques(data,sublist):\n",
    "    categories = set()\n",
    "    for d,t in data.iterrows():\n",
    "        try:\n",
    "            for j in t[sublist]:\n",
    "                categories.add(j)\n",
    "        except:\n",
    "            pass\n",
    "    return list(categories)\n",
    "\n",
    "def sublists_to_binaries(data,sublist,index_key = None):\n",
    "    categories = sublist_uniques(data,sublist)\n",
    "    frame = pd.DataFrame(columns=categories)\n",
    "    for d,i in data.iterrows():\n",
    "        if type(i[sublist]) == list or np.array:\n",
    "            try:\n",
    "                if index_key != None:\n",
    "                    key = i[index_key]\n",
    "                    f =np.zeros(len(categories))\n",
    "                    for j in i[sublist]:\n",
    "                        f[categories.index(j)] = 1\n",
    "                    if key in frame.index:\n",
    "                        for j in i[sublist]:\n",
    "                            frame.loc[key][j]+=1\n",
    "                    else:\n",
    "                        frame.loc[key]=f\n",
    "                else:\n",
    "                    f =np.zeros(len(categories))\n",
    "                    for j in i[sublist]:\n",
    "                        f[categories.index(j)] = 1\n",
    "                    frame.loc[d]=f\n",
    "            except:\n",
    "                pass\n",
    "                \n",
    "    return frame"
   ]
  }
 ],
 "metadata": {
  "kernelspec": {
   "display_name": "Python 3",
   "language": "python",
   "name": "python3"
  },
  "language_info": {
   "codemirror_mode": {
    "name": "ipython",
    "version": 3
   },
   "file_extension": ".py",
   "mimetype": "text/x-python",
   "name": "python",
   "nbconvert_exporter": "python",
   "pygments_lexer": "ipython3",
   "version": "3.6.3"
  }
 },
 "nbformat": 4,
 "nbformat_minor": 2
}
